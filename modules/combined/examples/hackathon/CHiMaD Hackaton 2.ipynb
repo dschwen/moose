{
 "cells": [
  {
   "cell_type": "code",
   "execution_count": 5,
   "metadata": {
    "collapsed": false
   },
   "outputs": [],
   "source": [
    "# elasticity tensor components\n",
    "C11  = 233.4 \n",
    "C22 = 289.0 \n",
    "C33 = 380.1 \n",
    "C44 = 99.5 \n",
    "C55 = 87.8 \n",
    "C66 = 112.3\n",
    "C12 = -(233.4 - C11 - C22) / 2 \n",
    "C13 = -(380.9 - C11 - C33) / 2 \n",
    "C23 = -(506.3 - C22 - C33) / 2\n"
   ]
  },
  {
   "cell_type": "markdown",
   "metadata": {},
   "source": [
    "$1\\frac{eV}{\\unicode[serif]{xC5}} \\equiv 160 GPa$"
   ]
  },
  {
   "cell_type": "code",
   "execution_count": 13,
   "metadata": {
    "collapsed": false
   },
   "outputs": [
    {
     "data": {
      "text/plain": [
       "'1458.75 903.125 726.875 1806.25 508.75 2375.625 621.875 548.75 701.875'"
      ]
     },
     "execution_count": 13,
     "metadata": {},
     "output_type": "execute_result"
    }
   ],
   "source": [
    "# convert GPa to eV/nm^3 by multiplying by 6.25 \n",
    "\" \".join(map(str, [x*6.25 for x in [C11, C12, C13, C22, C23, C33, C44, C55, C66]]))"
   ]
  },
  {
   "cell_type": "code",
   "execution_count": 73,
   "metadata": {
    "collapsed": false
   },
   "outputs": [
    {
     "data": {
      "text/plain": [
       "1.0056373809523809"
      ]
     },
     "execution_count": 73,
     "metadata": {},
     "output_type": "execute_result"
    }
   ],
   "source": [
    "V0 = 4.223677e+06\n",
    "c = V0/4.2e6\n",
    "c"
   ]
  },
  {
   "cell_type": "code",
   "execution_count": 74,
   "metadata": {
    "collapsed": true
   },
   "outputs": [],
   "source": [
    "from math import pi"
   ]
  },
  {
   "cell_type": "code",
   "execution_count": 75,
   "metadata": {
    "collapsed": false
   },
   "outputs": [
    {
     "data": {
      "text/plain": [
       "-3.725290298461914e-09"
      ]
     },
     "execution_count": 75,
     "metadata": {},
     "output_type": "execute_result"
    }
   ],
   "source": [
    "r = 99.90174885142402\n",
    "V = 4.0/3.0*pi*r**3 * c - 4.2e6\n",
    "V"
   ]
  },
  {
   "cell_type": "code",
   "execution_count": 76,
   "metadata": {
    "collapsed": false
   },
   "outputs": [
    {
     "data": {
      "text/plain": [
       "99.90174885142402"
      ]
     },
     "execution_count": 76,
     "metadata": {},
     "output_type": "execute_result"
    }
   ],
   "source": [
    "(4.2e6/c*3.0/4.0/pi)**(1.0/3.0)"
   ]
  },
  {
   "cell_type": "code",
   "execution_count": null,
   "metadata": {
    "collapsed": true
   },
   "outputs": [],
   "source": []
  }
 ],
 "metadata": {
  "kernelspec": {
   "display_name": "Python 2",
   "language": "python",
   "name": "python2"
  },
  "language_info": {
   "codemirror_mode": {
    "name": "ipython",
    "version": 2
   },
   "file_extension": ".py",
   "mimetype": "text/x-python",
   "name": "python",
   "nbconvert_exporter": "python",
   "pygments_lexer": "ipython2",
   "version": "2.7.11"
  }
 },
 "nbformat": 4,
 "nbformat_minor": 0
}
